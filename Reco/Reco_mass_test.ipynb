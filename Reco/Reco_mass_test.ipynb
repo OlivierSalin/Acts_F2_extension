{
 "cells": [
  {
   "cell_type": "code",
   "execution_count": 29,
   "id": "2017c6a6",
   "metadata": {},
   "outputs": [],
   "source": [
    "import uproot3 as uproot\n",
    "import matplotlib.pyplot as plt\n",
    "import numpy as np\n"
   ]
  },
  {
   "cell_type": "code",
   "execution_count": 30,
   "id": "1ab3c995",
   "metadata": {},
   "outputs": [],
   "source": [
    "path_HepMC='D:\\\\ARPE\\\\Reco\\\\Tracksummary\\\\Tel_x\\\\HepMC\\\\DP_m0.7586\\\\'\n",
    "file_name=path_HepMC+'tracksummary_fitter_DP.root'"
   ]
  },
  {
   "cell_type": "code",
   "execution_count": 31,
   "id": "6a05a146",
   "metadata": {},
   "outputs": [],
   "source": [
    "path_vertex='D:\\\\ARPE\\\\Reco\\\\Tracksummary\\\\Tel_x\\\\Vertexing\\\\'\n",
    "filename=path_vertex+'tracksummary_fitter_vert.root'"
   ]
  },
  {
   "cell_type": "code",
   "execution_count": 36,
   "id": "8f40689b",
   "metadata": {},
   "outputs": [
    {
     "data": {
      "image/png": "[encoded data removed]",
      "text/plain": [
       "<Figure size 432x288 with 1 Axes>"
      ]
     },
     "metadata": {
      "needs_background": "light"
     },
     "output_type": "display_data"
    },
    {
     "data": {
      "image/png": "[encoded data removed]",
      "text/plain": [
       "<Figure size 432x288 with 1 Axes>"
      ]
     },
     "metadata": {
      "needs_background": "light"
     },
     "output_type": "display_data"
    }
   ],
   "source": [
    "file = uproot.open(file_name)\n",
    "tree = file[\"tracksummary\"] \n",
    "\n",
    "#creating 2D array [[a,b],[c,d], ...] for all the branches from the root file, the array [a,b] represent the pair of decayed particle \n",
    "nMeasurements = tree.array(\"nMeasurements\")\n",
    "nOutliers = tree.array(\"nOutliers\")\n",
    "nHoles = tree.array(\"nHoles\")\n",
    "chi2Sum = tree.array(\"chi2Sum\")\n",
    "NDF = tree.array(\"NDF\")\n",
    "measurementChi2 = tree.array(\"measurementChi2\")\n",
    "outlierChi2 = tree.array(\"outlierChi2\")\n",
    "measurementVolume = tree.array(\"measurementVolume\")\n",
    "measurementLayer = tree.array(\"measurementLayer\")\n",
    "outlierVolume = tree.array(\"outlierVolume\")\n",
    "outlierLayer = tree.array(\"outlierLayer\")\n",
    "majorityParticleId = tree.array(\"majorityParticleId\")\n",
    "nMajorityHits = tree.array(\"nMajorityHits\")\n",
    "t_charge = tree.array(\"t_charge\")\n",
    "t_time = tree.array(\"t_time\")\n",
    "\n",
    "t_vx = tree.array(\"t_vx\")\n",
    "t_vy = tree.array(\"t_vy\")\n",
    "t_vz = tree.array(\"t_vz\")\n",
    "t_px = tree.array(\"t_px\")\n",
    "t_py = tree.array(\"t_py\")\n",
    "t_pz = tree.array(\"t_pz\")\n",
    "t_p = tree.array(\"t_p\")\n",
    "t_d0 = tree.array(\"t_d0\")\n",
    "t_z0 = tree.array(\"t_z0\")\n",
    "\n",
    "t_theta = tree.array(\"t_theta\")\n",
    "t_phi = tree.array(\"t_phi\")\n",
    "t_eta = tree.array(\"t_eta\")\n",
    "t_pT = tree.array(\"t_pT\")\n",
    "hasFittedParams = tree.array(\"hasFittedParams\")\n",
    "eLOC0_fit = tree.array(\"eLOC0_fit\")\n",
    "eLOC1_fit = tree.array(\"eLOC1_fit\")\n",
    "ePHI_fit = tree.array(\"ePHI_fit\")\n",
    "eTHETA_fit = tree.array(\"eTHETA_fit\")\n",
    "eQOP_fit = tree.array(\"eQOP_fit\")\n",
    "eT_fit = tree.array(\"eT_fit\")\n",
    "\n",
    "\n",
    "res_eLOC0_fit = tree.array(\"res_eLOC0_fit\")\n",
    "res_eLOC1_fit = tree.array(\"res_eLOC1_fit\")\n",
    "res_ePHI_fit = tree.array(\"res_ePHI_fit\")\n",
    "res_eTHETA_fit = tree.array(\"res_eTHETA_fit\")\n",
    "res_eQOP_fit = tree.array(\"res_eQOP_fit\")\n",
    "res_eT_fit = tree.array(\"res_eT_fit\")\n",
    "res_eQOP_fit_1d = res_eQOP_fit.flatten()\n",
    "\n",
    "#Calcul of new variable\n",
    "\n",
    "resid_phi=np.minimum(abs(abs(ePHI_fit)-abs(t_phi)),abs(abs(abs(ePHI_fit)-abs(t_phi))-np.pi)) #better variable for phi residual\n",
    "\n",
    "resi_QOP=eQOP_fit+1/t_p\n",
    "\n",
    "#Calcul of pz,px,py with fitted angle and truth angle (tTheta or tPhi) and residual of those value \n",
    "p_fit=(1.0 / abs(eQOP_fit))\n",
    "\n",
    "pz_fit_tTheta = (1.0 / abs(eQOP_fit)) * np.cos(t_theta)\n",
    "pz_fit = (1.0 / abs(eQOP_fit)) * np.cos(eTHETA_fit)\n",
    "\n",
    "res_pz_fit=pz_fit-t_pz\n",
    "res_pz_fit_rel=(pz_fit-t_pz)/t_pz\n",
    "res_pz_fit_tTheta=pz_fit_tTheta-t_pz\n",
    "\n",
    "res_res_pz=res_pz_fit-res_pz_fit_tTheta  #Difference between the momentum calculated with fitted angle and truth angle\n",
    "\n",
    "\n",
    "px_fit_tPhi = (1.0 / abs(eQOP_fit)) * np.sin(t_theta)*np.cos(t_phi)\n",
    "px_fit = (1.0 / abs(eQOP_fit)) * np.sin(eTHETA_fit)*np.cos(ePHI_fit)\n",
    "res_px_fit=px_fit-t_px\n",
    "res_px_fit_rel=(px_fit-t_px)/t_px\n",
    "res_px_fit_tPhi=px_fit_tPhi-t_px\n",
    "res_res_px=res_px_fit-res_px_fit_tPhi\n",
    "\n",
    "py_fit_tPhi = (1.0 / abs(eQOP_fit)) * np.sin(t_theta)*np.sin(t_phi)\n",
    "py_fit = (1.0 / abs(eQOP_fit)) * np.sin(eTHETA_fit)*np.sin(ePHI_fit)\n",
    "res_py_fit=py_fit-t_py\n",
    "res_py_fit_rel=(py_fit-t_py)/t_py\n",
    "res_py_fit_tPhi=py_fit_tPhi-t_py\n",
    "\n",
    "#MASS RESOLUTION\n",
    "#Let's assume the decayed particles are Muons\n",
    "\n",
    "\n",
    "\n",
    "#Only take element of the list truth and fitted that have the two tracks \n",
    "t_px_2D=t_px[[x.shape[0] >= 2 for x in t_px]]\n",
    "t_py_2D=t_py[[x.shape[0] >= 2 for x in t_py]]\n",
    "t_pz_2D=t_pz[[x.shape[0] >= 2 for x in t_pz]]\n",
    "t_p_2D=t_p[[x.shape[0] >= 2 for x in t_p]]\n",
    "\n",
    "px_fit_2D=px_fit[[x.shape[0] >= 2 for x in px_fit]]\n",
    "py_fit_2D=py_fit[[x.shape[0] >= 2 for x in py_fit]]\n",
    "pz_fit_2D=pz_fit[[x.shape[0] >= 2 for x in pz_fit]]\n",
    "p_fit_2D=p_fit[[x.shape[0] >= 2 for x in p_fit]]\n",
    "\n",
    "\n",
    "#Those are 2D array for each particle of the decay, I will take the momentum for each particle\n",
    "t_px_1=t_px_2D[:, 0]\n",
    "t_py_1=t_py_2D[:, 0]\n",
    "t_pz_1=t_pz_2D[:, 0]\n",
    "t_p_1=t_p_2D[:,0]\n",
    "\n",
    "px_fit_1=px_fit_2D[:, 0]\n",
    "py_fit_1=py_fit_2D[:, 0]\n",
    "pz_fit_1=pz_fit_2D[:, 0]\n",
    "p_fit_1=p_fit_2D[:, 0]\n",
    "\n",
    "\n",
    "t_px_2=t_px_2D[:, 1]\n",
    "t_py_2=t_py_2D[:, 1]\n",
    "t_pz_2=t_pz_2D[:, 1]\n",
    "t_p_2=t_p_2D[:, 1]\n",
    "\n",
    "px_fit_2=px_fit_2D[:, 1]\n",
    "py_fit_2=py_fit_2D[:, 1]\n",
    "pz_fit_2=pz_fit_2D[:, 1]\n",
    "p_fit_2=p_fit_2D[:, 1]\n",
    "\n",
    "\n",
    "#Let's assume particles are muons \n",
    "mu=0.10565837\n",
    "# t_E1=np.sqrt(mu**2+np.sqrt(t_px_1**2+t_py_1**2+t_pz_1**2)**2)\n",
    "# t_E2=np.sqrt(mu**2+np.sqrt(t_px_2**2+t_py_2**2+t_pz_2**2)**2)\n",
    "t_E1=np.sqrt(mu**2+t_p_1**2)\n",
    "t_E2=np.sqrt(mu**2+t_p_2**2)\n",
    "\n",
    "\n",
    "E1_fit=np.sqrt(mu**2+p_fit_1**2)\n",
    "E2_fit=np.sqrt(mu**2+p_fit_2**2)\n",
    "\n",
    "t_m2=(t_E1+t_E2)**2-(t_px_1+t_px_2)**2-(t_py_1+t_py_2)**2-(t_pz_1+t_pz_2)**2\n",
    "t_m=np.sqrt(np.abs(t_m2))\n",
    "m2_fit=(E1_fit+E2_fit)**2-(px_fit_1+px_fit_2)**2-(py_fit_1+py_fit_2)**2-(pz_fit_1+pz_fit_2)**2\n",
    "m_fit=np.sqrt(np.abs(m2_fit))\n",
    "# px_fit_1=px_fit[:,0]\n",
    "# py_fit_1=px_fit[:,0]\n",
    "\n",
    "plt.hist(t_m, bins=100, alpha=0.5, color='blue')\n",
    "plt.show()\n",
    "plt.hist(m_fit, bins=100, alpha=0.5, color='blue')\n",
    "plt.show()"
   ]
  },
  {
   "cell_type": "code",
   "execution_count": null,
   "id": "609db933",
   "metadata": {},
   "outputs": [],
   "source": []
  },
  {
   "cell_type": "code",
   "execution_count": null,
   "id": "cf545248",
   "metadata": {},
   "outputs": [],
   "source": []
  },
  {
   "cell_type": "code",
   "execution_count": 33,
   "id": "dea76621",
   "metadata": {},
   "outputs": [
    {
     "name": "stdout",
     "output_type": "stream",
     "text": [
      "t_p  : [[1393.9315 5678.0425] [1971.5739 5101.987] [3204.4202 3753.1895] ... [762.5532 5436.4097] [] [269.17953 1919.04]]\n",
      "\n",
      "t_px  : [[1393.9315 5678.0425] [1971.5739 5101.987] [3204.4202 3753.1895] ... [762.55316 5436.4097] [] [269.1793 1919.0399]]\n",
      "\n",
      "t_py  : [[0.33028775 0.6003276] [0.35865992 -0.06917647] [0.37108025 -0.35228083] ... [0.27170065 0.1313694] [] [0.35586485 0.731395]]\n",
      "\n",
      "t_pz  : [[-0.22380608 0.31377316] [0.14449741 -0.21842076] [-0.26586804 -0.35797876] ... [0.013531399 0.41987213] [] [-0.0538094 -0.0602153]]\n",
      "\n",
      "t_phi  : [[0.0002369469 0.000105727915] [0.00018191554 -1.35587325e-05] [0.00011580262 -9.386172e-05] ... [0.00035630388 2.4164734e-05] [] [0.0013220358 0.00038112546]]\n"
     ]
    }
   ],
   "source": [
    "print(\"t_p  : {}\".format(t_p))\n",
    "print(\"\")\n",
    "print(\"t_px  : {}\".format(t_px))\n",
    "print(\"\")\n",
    "print(\"t_py  : {}\".format(t_py))\n",
    "print(\"\")\n",
    "print(\"t_pz  : {}\".format(t_pz))\n",
    "\n",
    "print(\"\")\n",
    "print(\"t_phi  : {}\".format(t_phi))"
   ]
  },
  {
   "cell_type": "code",
   "execution_count": 34,
   "id": "9f177672",
   "metadata": {},
   "outputs": [
    {
     "name": "stdout",
     "output_type": "stream",
     "text": [
      "[5678.0425 5101.987  3753.1895 ... 4000.198  5436.4097 1919.04  ]\n",
      "[[1393.9315 5678.0425] [1971.5739 5101.987] [3204.4202 3753.1895] ... [762.55316 5436.4097] [] [269.1793 1919.0399]]\n",
      "[0.934954   0.29877305 0.62412995 ... 0.19937307 0.5918649  0.89714235]\n",
      "[0.9110054  0.32579803 0.6504963  ... 0.16396601 0.6116086  1.1675886 ]\n"
     ]
    }
   ],
   "source": [
    "print(t_E2)\n",
    "print(t_px)\n",
    "\n",
    "print(t_m)\n",
    "print(m_fit)"
   ]
  },
  {
   "cell_type": "code",
   "execution_count": 35,
   "id": "4da805db",
   "metadata": {},
   "outputs": [
    {
     "name": "stdout",
     "output_type": "stream",
     "text": [
      "p_fit  : [[1373.2174 5579.9707] [2039.8333 5256.8457] [3364.2488 3231.111] ... [744.6586 5793.72] [] [268.25452 1894.075]]\n",
      "\n",
      "px_fit  : [[1373.2174 5579.9707] [2039.8333 5256.8457] [3364.2488 3231.111] ... [744.65857 5793.72] [] [268.25427 1894.0748]]\n",
      "\n",
      "py_fit  : [[0.32788074 0.5775308] [0.3405889 -0.015174658] [0.37309763 -0.47927517] ... [0.27970275 0.15574053] [] [0.35784116 0.70298386]]\n",
      "\n",
      "pz_fit  : [[-0.20959638 0.31039718] [0.1567536 -0.17256261] [-0.28649655 -0.35527578] ... [0.012572821 0.41690856] [] [-0.050857432 -0.05585325]]\n",
      "\n",
      "PHI_fit  : [[0.00023876826 0.000103500686] [0.000166969 -2.886647e-06] [0.00011090073 -0.00014833138] ... [0.00037561203 2.688092e-05] [] [0.0013339617 0.0003711489]]\n"
     ]
    }
   ],
   "source": [
    "print(\"p_fit  : {}\".format(p_fit))\n",
    "print(\"\")\n",
    "print(\"px_fit  : {}\".format(px_fit))\n",
    "print(\"\")\n",
    "print(\"py_fit  : {}\".format(py_fit))\n",
    "print(\"\")\n",
    "print(\"pz_fit  : {}\".format(pz_fit))\n",
    "\n",
    "print(\"\")\n",
    "print(\"PHI_fit  : {}\".format(ePHI_fit))"
   ]
  },
  {
   "cell_type": "code",
   "execution_count": 42,
   "id": "c08a4b83",
   "metadata": {},
   "outputs": [
    {
     "data": {
      "image/png": "[encoded data removed]",
      "text/plain": [
       "<Figure size 864x576 with 4 Axes>"
      ]
     },
     "metadata": {
      "needs_background": "light"
     },
     "output_type": "display_data"
    }
   ],
   "source": [
    "m_fit_t_m_ratio = 100 * (m_fit - t_m) / t_m\n",
    "res_eQOP_fit_mean = np.mean(res_eQOP_fit_1d)\n",
    "res_eQOP_fit_std = np.std(res_eQOP_fit_1d)\n",
    "t_m_mean = np.mean(t_m)\n",
    "t_m_std = np.std(t_m)\n",
    "m_fit_mean = np.mean(m_fit)\n",
    "m_fit_std = np.std(m_fit)\n",
    "m_fit_t_m_ratio_mean = np.mean(m_fit_t_m_ratio)\n",
    "m_fit_t_m_ratio_std = np.std(m_fit_t_m_ratio)\n",
    "\n",
    "# Plotting histograms\n",
    "fig, axs = plt.subplots(2, 2, figsize=(12, 8))\n",
    "\n",
    "# Histogram for res_eQOP_fit\n",
    "axs[1, 0].hist(res_eQOP_fit_1d, bins=100, alpha=0.5, color='red')\n",
    "axs[1, 0].set_xlabel('res_eQOP_fit')\n",
    "axs[1, 0].set_ylabel('Frequency')\n",
    "axs[1, 0].set_title('Histogram of res_eQOP_fit')\n",
    "\n",
    "# Histogram for t_m\n",
    "axs[0, 1].hist(t_m, bins=100, alpha=0.5, color='blue')\n",
    "axs[0, 1].set_xlabel('t_m')\n",
    "axs[0, 1].set_ylabel('Frequency')\n",
    "axs[0, 1].set_title('Histogram of t_m\\nMean: {:.4f}, Std: {:.4f}'.format(t_m_mean, t_m_std))\n",
    "\n",
    "# Histogram for m_fit\n",
    "axs[0, 0].hist(m_fit, bins=100, alpha=0.5, color='green')\n",
    "axs[0, 0].set_xlabel('m_fit')\n",
    "axs[0, 0].set_ylabel('Frequency')\n",
    "axs[0, 0].set_title('Histogram of m_fit\\nMean: {:.4f}, Std: {:.4f}'.format(m_fit_mean, m_fit_std))\n",
    "\n",
    "# Histogram for 100*(m_fit-t_m)/t_m\n",
    "axs[1, 1].hist(m_fit_t_m_ratio, bins=100, alpha=0.5, color='purple')\n",
    "axs[1, 1].set_xlabel('100*(m_fit-t_m)/t_m')\n",
    "axs[1, 1].set_ylabel('Frequency')\n",
    "axs[1, 1].set_title('Histogram of relative err mass')\n",
    "plt.show()"
   ]
  }
 ],
 "metadata": {
  "kernelspec": {
   "display_name": "Python 3 (ipykernel)",
   "language": "python",
   "name": "python3"
  },
  "language_info": {
   "codemirror_mode": {
    "name": "ipython",
    "version": 3
   },
   "file_extension": ".py",
   "mimetype": "text/x-python",
   "name": "python",
   "nbconvert_exporter": "python",
   "pygments_lexer": "ipython3",
   "version": "3.9.7"
  }
 },
 "nbformat": 4,
 "nbformat_minor": 5
}
