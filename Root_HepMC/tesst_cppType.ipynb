{
 "cells": [
  {
   "cell_type": "code",
   "execution_count": 1,
   "id": "93f1b2ea",
   "metadata": {},
   "outputs": [],
   "source": [
    "import numpy as np\n",
    "import random\n",
    "import ctypes"
   ]
  },
  {
   "cell_type": "code",
   "execution_count": 22,
   "id": "0503a2d3",
   "metadata": {},
   "outputs": [],
   "source": [
    "x = 123456789\n",
    "\n",
    "# convert the Python integer to an unsigned long integer for C++\n",
    "unsigned_long_x = ctypes.c_ulong(0)"
   ]
  },
  {
   "cell_type": "code",
   "execution_count": 24,
   "id": "5348b5aa",
   "metadata": {},
   "outputs": [
    {
     "name": "stdout",
     "output_type": "stream",
     "text": [
      "0\n",
      "123456789\n"
     ]
    }
   ],
   "source": [
    "print(unsigned_long_x.value)\n",
    "print(x)"
   ]
  },
  {
   "cell_type": "code",
   "execution_count": 25,
   "id": "f04fef7b",
   "metadata": {},
   "outputs": [
    {
     "name": "stdout",
     "output_type": "stream",
     "text": [
      "<class 'int'>\n",
      "<class 'int'>\n"
     ]
    }
   ],
   "source": [
    "print(type(unsigned_long_x.value))\n",
    "print(type(x))"
   ]
  }
 ],
 "metadata": {
  "kernelspec": {
   "display_name": "Python 3 (ipykernel)",
   "language": "python",
   "name": "python3"
  },
  "language_info": {
   "codemirror_mode": {
    "name": "ipython",
    "version": 3
   },
   "file_extension": ".py",
   "mimetype": "text/x-python",
   "name": "python",
   "nbconvert_exporter": "python",
   "pygments_lexer": "ipython3",
   "version": "3.9.7"
  }
 },
 "nbformat": 4,
 "nbformat_minor": 5
}
