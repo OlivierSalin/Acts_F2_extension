{
 "cells": [
  {
   "cell_type": "code",
   "execution_count": null,
   "id": "f746b525",
   "metadata": {},
   "outputs": [],
   "source": [
    "import uproot3"
   ]
  },
  {
   "cell_type": "code",
   "execution_count": 35,
   "id": "64550819",
   "metadata": {},
   "outputs": [],
   "source": [
    "path = 'D:\\\\ARPE\\\\Gen\\\\root_test\\\\'\n",
    "path2 = 'D:\\\\ARPE\\\\Gen\\\\root_test\\\\t1\\\\'"
   ]
  },
  {
   "cell_type": "code",
   "execution_count": 38,
   "id": "58bdceba",
   "metadata": {},
   "outputs": [],
   "source": [
    "def read_part(filename):\n",
    "\n",
    "    # open the root file and get the tree\n",
    "    file = uproot3.open(filename)\n",
    "    tree = file[\"particles\"]\n",
    "\n",
    "    # define arrays to hold the branch values\n",
    "    event_id = tree[\"event_id\"].array()\n",
    "    particle_id = tree[\"particle_id\"].array()\n",
    "    particle_type = tree[\"particle_type\"].array()\n",
    "    process = tree[\"process\"].array()\n",
    "    vx = tree[\"vx\"].array()\n",
    "    vy = tree[\"vy\"].array()\n",
    "    vz = tree[\"vz\"].array()\n",
    "    vt = tree[\"vt\"].array()\n",
    "    px = tree[\"px\"].array()\n",
    "    py = tree[\"py\"].array()\n",
    "    pz = tree[\"pz\"].array()\n",
    "    m = tree[\"m\"].array()\n",
    "    q = tree[\"q\"].array()\n",
    "    eta = tree[\"eta\"].array()\n",
    "    phi = tree[\"phi\"].array()\n",
    "    pt = tree[\"pt\"].array()\n",
    "    p = tree[\"p\"].array()\n",
    "    vertex_primary = tree[\"vertex_primary\"].array()\n",
    "    vertex_secondary = tree[\"vertex_secondary\"].array()\n",
    "    particle = tree[\"particle\"].array()\n",
    "    generation = tree[\"generation\"].array()\n",
    "    sub_particle = tree[\"sub_particle\"].array()\n",
    "\n",
    "    # print the first 1 values of each branch\n",
    "    print(\"event_id:\", event_id[:1])\n",
    "    print(\"particle_id:\", particle_id[:1])\n",
    "    print(\"particle_type:\", particle_type[:1])\n",
    "    print(\"process:\", process[:1])\n",
    "    print(\"vx:\", vx[:1])\n",
    "    print(\"vy:\", vy[:1])\n",
    "    print(\"vz:\", vz[:1])\n",
    "    print(\"vt:\", vt[:1])\n",
    "    print(\"px:\", px[:1])\n",
    "    print(\"py:\", py[:1])\n",
    "    print(\"pz:\", pz[:1])\n",
    "    print(\"m:\", m[:1])\n",
    "    print(\"q:\", q[:1])\n",
    "    print(\"eta:\", eta[:1])\n",
    "    print(\"phi:\", phi[:1])\n",
    "    print(\"pt:\", pt[:1])\n",
    "    print(\"p:\", p[:1])\n",
    "    print(\"vertex_primary:\", vertex_primary[:1])\n",
    "    print(\"vertex_secondary:\", vertex_secondary[:1])\n",
    "    print(\"particle:\", particle[:1])\n",
    "    print(\"generation:\", generation[:1])\n",
    "    print(\"sub_particle:\", sub_particle[:1])\n",
    "    \n"
   ]
  },
  {
   "cell_type": "code",
   "execution_count": 33,
   "id": "c3303b7b",
   "metadata": {},
   "outputs": [
    {
     "name": "stdout",
     "output_type": "stream",
     "text": [
      "event_id: [0]\n",
      "particle_id: [[4503599644147712 4503599660924928]]\n",
      "particle_type: [[13 13]]\n",
      "process: [[0 0]]\n",
      "vx: [[2542.929 2542.929]]\n",
      "vy: [[-210.97308 -210.97308]]\n",
      "vz: [[-76.120636 -76.120636]]\n",
      "vt: [[0.0 0.0]]\n",
      "px: [[667.57446 516.87555]]\n",
      "py: [[-8.340975 -28.0602]]\n",
      "pz: [[6.6243825 3.1517608]]\n",
      "m: [[0.10565837 0.10565837]]\n",
      "q: [[-1.0 -1.0]]\n",
      "eta: [[0.009922124 0.0060887136]]\n",
      "phi: [[-0.0124937985 -0.054234877]]\n",
      "pt: [[667.6265 517.63666]]\n",
      "p: [[667.6594 517.64624]]\n",
      "vertex_primary: [[1 1]]\n",
      "vertex_secondary: [[0 0]]\n",
      "particle: [[1 2]]\n",
      "generation: [[0 0]]\n",
      "sub_particle: [[0 0]]\n",
      "True\n"
     ]
    }
   ],
   "source": [
    "read_part(path+'particles.root')"
   ]
  },
  {
   "cell_type": "code",
   "execution_count": 39,
   "id": "daad5bcb",
   "metadata": {},
   "outputs": [
    {
     "name": "stdout",
     "output_type": "stream",
     "text": [
      "event_id: [0]\n",
      "particle_id: [[4503599644147712 4503599660924928]]\n",
      "particle_type: [[13 13]]\n",
      "process: [[0 0]]\n",
      "vx: [[-188.36877 -188.36877]]\n",
      "vy: [[-563.48047 -563.48047]]\n",
      "vz: [[3147.5784 3147.5784]]\n",
      "vt: [[0.0 0.0]]\n",
      "px: [[0.00076219457 0.007563131]]\n",
      "py: [[0.0013780134 -0.029570108]]\n",
      "pz: [[1770.8041 3445.4382]]\n",
      "m: [[0.10565837 0.10565837]]\n",
      "q: [[-1.0 -1.0]]\n",
      "eta: [[14.626076 12.327262]]\n",
      "phi: [[1.0655676 -1.320395]]\n",
      "pt: [[0.0015747576 0.030521996]]\n",
      "p: [[1770.8041 3445.4382]]\n",
      "vertex_primary: [[1 1]]\n",
      "vertex_secondary: [[0 0]]\n",
      "particle: [[1 2]]\n",
      "generation: [[0 0]]\n",
      "sub_particle: [[0 0]]\n"
     ]
    }
   ],
   "source": [
    "read_part(path2+'particles.root')"
   ]
  },
  {
   "cell_type": "code",
   "execution_count": 41,
   "id": "4d82d69f",
   "metadata": {},
   "outputs": [
    {
     "name": "stdout",
     "output_type": "stream",
     "text": [
      "event_id: [2]\n",
      "particle_id: [[4503599644147712 4503599660924928 4503599677702144 ... 905249914840154112 905251014368559104 905251014385336320]]\n",
      "particle_type: [[211 -211 -321 ... 22 22 22]]\n",
      "process: [[0 0 0 ... 0 0 0]]\n",
      "vx: [[0.0 0.0 0.0 ... 1.757515 1.7574873 1.7574873]]\n",
      "vy: [[0.0 0.0 0.0 ... -7.124158 -7.124212 -7.124212]]\n",
      "vz: [[0.0 0.0 0.0 ... 40.92875 40.928574 40.928574]]\n",
      "vt: [[0.0 0.0 0.0 ... 0.1450927 0.14509214 0.14509214]]\n",
      "px: [[-0.12375054 -0.60539097 0.7880282 ... 0.027190253 0.0055313534 -0.027649745]]\n",
      "py: [[-0.3762724 0.025918357 0.45020425 ... 0.041363716 -0.24408893 -0.056752723]]\n",
      "pz: [[0.6497826 0.8896744 -3.2528338 ... 0.10738365 0.5452384 0.040125836]]\n",
      "m: [[0.13957 0.13957 0.49368 ... 0.0 0.0 0.0]]\n",
      "q: [[1.0 -1.0 -1.0 ... 0.0 0.0 0.0]]\n",
      "eta: [[1.2702295 1.1770167 -1.9885815 ... 1.5169076 1.5433118 0.59911764]]\n",
      "phi: [[-1.8885385 3.0988061 0.5190528 ... 0.9892746 -1.548139 -2.024149]]\n",
      "pt: [[0.3960999 0.6059455 0.9075639 ... 0.04950017 0.24415159 0.063129865]]\n",
      "p: [[0.76099443 1.076425 3.3770697 ... 0.11824346 0.5974068 0.07480282]]\n",
      "vertex_primary: [[1 1 1 ... 201 201 201]]\n",
      "vertex_secondary: [[0 0 0 ... 24 25 25]]\n",
      "particle: [[1 2 3 ... 87 88 89]]\n",
      "generation: [[0 0 0 ... 0 0 0]]\n",
      "sub_particle: [[0 0 0 ... 0 0 0]]\n"
     ]
    }
   ],
   "source": [
    "read_part(path+'pythia8_particles.root')"
   ]
  },
  {
   "cell_type": "code",
   "execution_count": 40,
   "id": "8defc673",
   "metadata": {},
   "outputs": [
    {
     "name": "stdout",
     "output_type": "stream",
     "text": [
      "event_id: [0]\n",
      "particle_id: [[4563775529578168 4505984031911651]]\n",
      "particle_type: [[13 -13]]\n",
      "process: [[0 0]]\n",
      "vx: [[-1056.7029 -1056.7029]]\n",
      "vy: [[-209.72823 -209.72823]]\n",
      "vz: [[6238.265 6238.265]]\n",
      "vt: [[7738.265 7738.265]]\n",
      "px: [[-0.3107924 -0.29660684]]\n",
      "py: [[-0.029874511 -0.09067855]]\n",
      "pz: [[187.95435 165.5514]]\n",
      "m: [[0.105658 0.105658]]\n",
      "q: [[1.0 -1.0]]\n",
      "eta: [[7.0933785 6.973102]]\n",
      "phi: [[-3.0457635 -2.8448968]]\n",
      "pt: [[0.31222492 0.31015837]]\n",
      "p: [[187.9546 165.5517]]\n",
      "vertex_primary: [[0 0]]\n",
      "vertex_secondary: [[0 0]]\n",
      "particle: [[2 1]]\n",
      "generation: [[0 0]]\n",
      "sub_particle: [[0 0]]\n"
     ]
    }
   ],
   "source": [
    "read_part(path+'PartHepMC_T02.root')"
   ]
  },
  {
   "cell_type": "code",
   "execution_count": null,
   "id": "a41b2d6d",
   "metadata": {},
   "outputs": [],
   "source": []
  }
 ],
 "metadata": {
  "kernelspec": {
   "display_name": "Python 3 (ipykernel)",
   "language": "python",
   "name": "python3"
  },
  "language_info": {
   "codemirror_mode": {
    "name": "ipython",
    "version": 3
   },
   "file_extension": ".py",
   "mimetype": "text/x-python",
   "name": "python",
   "nbconvert_exporter": "python",
   "pygments_lexer": "ipython3",
   "version": "3.9.7"
  }
 },
 "nbformat": 4,
 "nbformat_minor": 5
}
